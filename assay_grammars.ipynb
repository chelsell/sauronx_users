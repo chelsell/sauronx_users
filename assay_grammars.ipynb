{
 "cells": [
  {
   "cell_type": "markdown",
   "id": "39237d0e",
   "metadata": {},
   "source": [
    "## Installation ##\n",
    "This notebook needs a scala interpreter to work. Luckily, there's an easy package:\n",
    "1. install Almond: https://almond.sh/docs/quick-start-install\n",
    "\n",
    "We need a particular version of Scala and we need a root installation, so:\n",
    "\n",
    "`sudo ./coursier launch --fork almond --scala 2.12.6 -- --install --extra-repository /root/.ivy2 --force`\n",
    "\n",
    "Follow its instructions to install JVM if you don't have it already\n",
    "\n",
    "2. Start this notebook as root. I'm sure it's not impossible to work around, but Scala has a lot of defaults that assume root paths. In particular, I'm not sure how to change the location of ivy from the default at `/root/.ivy2`\n",
    "\n",
    "Now you should see a kernel available called \"Scala\". Use it.\n",
    "\n",
    "3. Download and install gale. That is:\n",
    "\n",
    "`git clone git@github.com:dmyersturnbull/gale.git`\n",
    "\n",
    "`cd gale`\n",
    "\n",
    "`sudo sbt publishLocal`"
   ]
  },
  {
   "cell_type": "code",
   "execution_count": 1,
   "id": "0c715c14",
   "metadata": {},
   "outputs": [
    {
     "data": {
      "text/plain": [
       "\u001b[32mimport \u001b[39m\u001b[36m$ivy.$                                             \n",
       "\u001b[39m\n",
       "\u001b[32mimport \u001b[39m\u001b[36mkokellab.gale.TimeSeriesGrammar\n",
       "\u001b[39m\n",
       "\u001b[32mimport \u001b[39m\u001b[36mscala.reflect.runtime.universe._\n",
       "\u001b[39m\n",
       "\u001b[32mimport \u001b[39m\u001b[36mscala.reflect._\n",
       "\u001b[39m\n",
       "\u001b[32mimport \u001b[39m\u001b[36mbreeze.stats.distributions._\n",
       "\u001b[39m\n",
       "defined \u001b[32mfunction\u001b[39m \u001b[36mrb\u001b[39m"
      ]
     },
     "execution_count": 1,
     "metadata": {},
     "output_type": "execute_result"
    }
   ],
   "source": [
    "import $ivy.`com.github.kokellab:gale_2.12:0.1.0-SNAPSHOT`\n",
    "import kokellab.gale.TimeSeriesGrammar\n",
    "import scala.reflect.runtime.universe._\n",
    "import scala.reflect._\n",
    "import breeze.stats.distributions._\n",
    "def rb = {\n",
    "\t\tSome(RandBasis.withSeed(1))\n",
    "\t}\n"
   ]
  },
  {
   "cell_type": "code",
   "execution_count": 57,
   "id": "3dbe4ab2",
   "metadata": {},
   "outputs": [
    {
     "ename": "",
     "evalue": "",
     "output_type": "error",
     "traceback": [
      "\u001b[31mkokellab.gale.package$GrammarException: The expression 0%2500<400:255else:0 could not be parsed by IfElseRealNumberGrammar\u001b[39m\n  kokellab.gale.package$Wrapper.apply(\u001b[32mpackage.scala\u001b[39m:\u001b[32m25\u001b[39m)\n  kokellab.gale.package$.call(\u001b[32mpackage.scala\u001b[39m:\u001b[32m49\u001b[39m)\n  kokellab.gale.IfElseRealNumberGrammar$.eval(\u001b[32mIfElseRealNumberGrammar.scala\u001b[39m:\u001b[32m10\u001b[39m)\n  kokellab.gale.TimeSeriesGrammar.$anonfun$buildStreaming$1(\u001b[32mTimeSeriesGrammar.scala\u001b[39m:\u001b[32m127\u001b[39m)\n  kokellab.gale.TimeSeriesGrammar.$anonfun$buildStreaming$4(\u001b[32mTimeSeriesGrammar.scala\u001b[39m:\u001b[32m133\u001b[39m)\n  kokellab.gale.TimeSeriesGrammar.$anonfun$buildStreaming$4$adapted(\u001b[32mTimeSeriesGrammar.scala\u001b[39m:\u001b[32m132\u001b[39m)\n  scala.collection.TraversableLike.$anonfun$map$1(\u001b[32mTraversableLike.scala\u001b[39m:\u001b[32m234\u001b[39m)\n  scala.collection.immutable.Range.foreach(\u001b[32mRange.scala\u001b[39m:\u001b[32m156\u001b[39m)\n  scala.collection.TraversableLike.map(\u001b[32mTraversableLike.scala\u001b[39m:\u001b[32m234\u001b[39m)\n  scala.collection.TraversableLike.map$(\u001b[32mTraversableLike.scala\u001b[39m:\u001b[32m227\u001b[39m)\n  scala.collection.AbstractTraversable.map(\u001b[32mTraversable.scala\u001b[39m:\u001b[32m104\u001b[39m)\n  kokellab.gale.TimeSeriesGrammar.buildStreaming(\u001b[32mTimeSeriesGrammar.scala\u001b[39m:\u001b[32m132\u001b[39m)\n  kokellab.gale.TimeSeriesGrammar.build(\u001b[32mTimeSeriesGrammar.scala\u001b[39m:\u001b[32m99\u001b[39m)\n  kokellab.gale.TimeSeriesGrammar$.build(\u001b[32mTimeSeriesGrammar.scala\u001b[39m:\u001b[32m24\u001b[39m)\n  ammonite.$sess.cmd56$Helper.<init>(\u001b[32mcmd56.sc\u001b[39m:\u001b[32m5\u001b[39m)\n  ammonite.$sess.cmd56$.<init>(\u001b[32mcmd56.sc\u001b[39m:\u001b[32m7\u001b[39m)\n  ammonite.$sess.cmd56$.<clinit>(\u001b[32mcmd56.sc\u001b[39m:\u001b[32m-1\u001b[39m)\n\u001b[31mParseError(Position(6,1,7), Position(6,1,7), <15 traces>)\u001b[39m\n  org.parboiled2.Parser.done$1(\u001b[32mParser.scala\u001b[39m:\u001b[32m185\u001b[39m)\n  org.parboiled2.Parser.phase4_collectRuleTraces$1(\u001b[32mParser.scala\u001b[39m:\u001b[32m196\u001b[39m)\n  org.parboiled2.Parser.__run(\u001b[32mParser.scala\u001b[39m:\u001b[32m209\u001b[39m)\n  kokellab.gale.IfElseRealNumberGrammar$.$anonfun$eval$4(\u001b[32mIfElseRealNumberGrammar.scala\u001b[39m:\u001b[32m10\u001b[39m)\n  kokellab.gale.package$Wrapper.apply(\u001b[32mpackage.scala\u001b[39m:\u001b[32m20\u001b[39m)\n  kokellab.gale.package$.call(\u001b[32mpackage.scala\u001b[39m:\u001b[32m49\u001b[39m)\n  kokellab.gale.IfElseRealNumberGrammar$.eval(\u001b[32mIfElseRealNumberGrammar.scala\u001b[39m:\u001b[32m10\u001b[39m)\n  kokellab.gale.TimeSeriesGrammar.$anonfun$buildStreaming$1(\u001b[32mTimeSeriesGrammar.scala\u001b[39m:\u001b[32m127\u001b[39m)\n  kokellab.gale.TimeSeriesGrammar.$anonfun$buildStreaming$4(\u001b[32mTimeSeriesGrammar.scala\u001b[39m:\u001b[32m133\u001b[39m)\n  kokellab.gale.TimeSeriesGrammar.$anonfun$buildStreaming$4$adapted(\u001b[32mTimeSeriesGrammar.scala\u001b[39m:\u001b[32m132\u001b[39m)\n  scala.collection.TraversableLike.$anonfun$map$1(\u001b[32mTraversableLike.scala\u001b[39m:\u001b[32m234\u001b[39m)\n  scala.collection.immutable.Range.foreach(\u001b[32mRange.scala\u001b[39m:\u001b[32m156\u001b[39m)\n  scala.collection.TraversableLike.map(\u001b[32mTraversableLike.scala\u001b[39m:\u001b[32m234\u001b[39m)\n  scala.collection.TraversableLike.map$(\u001b[32mTraversableLike.scala\u001b[39m:\u001b[32m227\u001b[39m)\n  scala.collection.AbstractTraversable.map(\u001b[32mTraversable.scala\u001b[39m:\u001b[32m104\u001b[39m)\n  kokellab.gale.TimeSeriesGrammar.buildStreaming(\u001b[32mTimeSeriesGrammar.scala\u001b[39m:\u001b[32m132\u001b[39m)\n  kokellab.gale.TimeSeriesGrammar.build(\u001b[32mTimeSeriesGrammar.scala\u001b[39m:\u001b[32m99\u001b[39m)\n  kokellab.gale.TimeSeriesGrammar$.build(\u001b[32mTimeSeriesGrammar.scala\u001b[39m:\u001b[32m24\u001b[39m)\n  ammonite.$sess.cmd56$Helper.<init>(\u001b[32mcmd56.sc\u001b[39m:\u001b[32m5\u001b[39m)\n  ammonite.$sess.cmd56$.<init>(\u001b[32mcmd56.sc\u001b[39m:\u001b[32m7\u001b[39m)\n  ammonite.$sess.cmd56$.<clinit>(\u001b[32mcmd56.sc\u001b[39m:\u001b[32m-1\u001b[39m)"
     ]
    }
   ],
   "source": [
    "val grammar_string = \"if $t%2500<400:255 else:0\"\n",
    "val start = 0\n",
    "val end = 10000\n",
    "\n",
    "val result1 = TimeSeriesGrammar.build[Double](grammar_string, start, end, d=>d, rb).toSeq"
   ]
  },
  {
   "cell_type": "code",
   "execution_count": 56,
   "id": "6f4629bc",
   "metadata": {},
   "outputs": [
    {
     "data": {
      "text/plain": [
       "\u001b[32mimport \u001b[39m\u001b[36m$ivy.$                            \n",
       "\u001b[39m\n",
       "\u001b[32mimport \u001b[39m\u001b[36mbreeze.numerics._\n",
       "\u001b[39m\n",
       "\u001b[32mimport \u001b[39m\u001b[36m$ivy.$                                \n",
       "\u001b[39m\n",
       "\u001b[32mimport \u001b[39m\u001b[36mbreeze.plot._\n",
       "\u001b[39m\n",
       "\u001b[32mimport \u001b[39m\u001b[36mbreeze.linalg._\n",
       "\u001b[39m\n",
       "\u001b[32mimport \u001b[39m\u001b[36mbreeze.numerics._\n",
       "\n",
       "\u001b[39m\n",
       "\u001b[36mfig\u001b[39m: \u001b[32mFigure\u001b[39m = breeze.plot.Figure@144479b8\n",
       "\u001b[36mplt\u001b[39m: \u001b[32mPlot\u001b[39m = breeze.plot.Plot@7157b020\n",
       "\u001b[36mx\u001b[39m: \u001b[32mDenseVector\u001b[39m[\u001b[32mDouble\u001b[39m] = DenseVector(0.0, 1.000100010001, 2.000200020002, 3.0003000300030003, 4.000400040004, 5.000500050005, 6.0006000600060005, 7.000700070007, 8.000800080008, 9.000900090009, 10.00100010001, 11.001100110011, 12.001200120012001, 13.001300130013, 14.001400140014, 15.001500150015, 16.001600160016, 17.001700170017, 18.001800180018, 19.001900190019, 20.00200020002, 21.002100210021002, 22.002200220022, 23.002300230023, 24.002400240024002, 25.002500250025, 26.002600260026, 27.002700270027, 28.002800280028, 29.002900290029, 30.00300030003, 31.003100310031, 32.003200320032, 33.003300330033, 34.003400340034, 35.003500350035, 36.003600360036, 37.003700370037, 38.003800380038, 39.003900390039, 40.00400040004, 41.004100410041, 42.004200420042004, 43.004300430043, 44.004400440044, 45.004500450045, 46.004600460046, 47.004700470047, 48.004800480048004, 49.004900490049, 50.00500050005, 51.005100510051, 52.005200520052, 53.005300530053, 54.005400540054, 55.005500550055004, 56.005600560056, 57.005700570057, 58.005800580058, 59.005900590059, 60.00600060006, 61.006100610061004, 62.006200620062, 63.006300630063, 64.006400640064, 65.00650065006501, 66.006600660066, 67.006700670067, 68.006800680068, 69.006900690069, 70.00700070007, 71.007100710071, 72.007200720072, 73.007300730073, 74.007400740074, 75.007500750075, 76.007600760076, 77.00770077007701, 78.007800780078, 79.007900790079, 80.00800080008, 81.008100810081, 82.008200820082, 83.008300830083, 84.00840084008401, 85.008500850085, 86.008600860086, 87.008700870087, 88.008800880088, 89.008900890089, 90.00900090009, 91.00910091009101, 92.009200920092, 93.009300930093, 94.009400940094, 95.009500950095, 96.00960096009601, 97.009700970097, 98.009800980098, 99.009900990099, 100.0100010001, 101.010101010101, 102.010201020102, 103.01030103010301, 104.010401040104, 105.010501050105, 106.010601060106, 107.010701070107, 108.010801080108, 109.010901090109, 110.01100110011001, 111.011101110111, 112.011201120112, 113.011301130113, 114.011401140114, 115.011501150115, 116.011601160116, 117.01170117011701, 118.011801180118, 119.011901190119, 120.01200120012, 121.012101210121, 122.01220122012201, 123.012301230123, 124.012401240124, 125.012501250125, 126.012601260126, 127.012701270127, 128.012801280128, 129.012901290129, 130.01300130013001, 131.013101310131, 132.013201320132, 133.013301330133, 134.013401340134, 135.01350135013502, 136.013601360136, 137.013701370137, 138.013801380138, 139.013901390139, 140.01400140014, 141.014101410141, 142.014201420142, 143.014301430143, 144.014401440144, 145.014501450145, 146.014601460146, 147.014701470147, 148.014801480148, 149.01490149014901, 150.01500150015, 151.015101510151, 152.015201520152, 153.015301530153, 154.01540154015402, 155.015501550155, 156.015601560156, 157.015701570157, 158.015801580158, 159.015901590159, 160.01600160016, 161.016101610161, 162.016201620162, 163.016301630163, 164.016401640164, 165.016501650165, 166.016601660166, 167.016701670167, 168.01680168016802, 169.016901690169, 170.01700170017, 171.017101710171, 172.017201720172, 173.01730173017302, 174.017401740174, 175.017501750175, 176.017601760176, ...\n",
       "\u001b[36mres55_9\u001b[39m: \u001b[32mPlot\u001b[39m = breeze.plot.Plot@7157b020"
      ]
     },
     "execution_count": 56,
     "metadata": {},
     "output_type": "execute_result"
    }
   ],
   "source": [
    "import $ivy.`org.scalanlp::breeze:0.13.2`\n",
    "import breeze.numerics._\n",
    "import $ivy.`org.scalanlp::breeze-viz:0.13.2`\n",
    "import breeze.plot._\n",
    "import breeze.linalg._\n",
    "import breeze.numerics._\n",
    "\n",
    "val fig = Figure()\n",
    "val plt = fig.subplot(0)\n",
    "val x = breeze.linalg.linspace(start,end,end-start)\n",
    "plt += plot(x,result1)"
   ]
  },
  {
   "cell_type": "code",
   "execution_count": 46,
   "id": "83c8ebf8",
   "metadata": {},
   "outputs": [
    {
     "data": {
      "text/plain": [
       "\u001b[36mgrammar_string\u001b[39m: \u001b[32mString\u001b[39m = \u001b[32m\"if $t%5000<800:255 else:0\"\u001b[39m\n",
       "\u001b[36mstart\u001b[39m: \u001b[32mInt\u001b[39m = \u001b[32m0\u001b[39m\n",
       "\u001b[36mend\u001b[39m: \u001b[32mInt\u001b[39m = \u001b[32m10000\u001b[39m\n",
       "\u001b[36mresult2\u001b[39m: \u001b[32mSeq\u001b[39m[\u001b[32mDouble\u001b[39m] = \u001b[33mVector\u001b[39m(\n",
       "  \u001b[32m255.0\u001b[39m,\n",
       "  \u001b[32m255.0\u001b[39m,\n",
       "  \u001b[32m255.0\u001b[39m,\n",
       "  \u001b[32m255.0\u001b[39m,\n",
       "  \u001b[32m255.0\u001b[39m,\n",
       "  \u001b[32m255.0\u001b[39m,\n",
       "  \u001b[32m255.0\u001b[39m,\n",
       "  \u001b[32m255.0\u001b[39m,\n",
       "  \u001b[32m255.0\u001b[39m,\n",
       "  \u001b[32m255.0\u001b[39m,\n",
       "  \u001b[32m255.0\u001b[39m,\n",
       "  \u001b[32m255.0\u001b[39m,\n",
       "  \u001b[32m255.0\u001b[39m,\n",
       "  \u001b[32m255.0\u001b[39m,\n",
       "  \u001b[32m255.0\u001b[39m,\n",
       "  \u001b[32m255.0\u001b[39m,\n",
       "  \u001b[32m255.0\u001b[39m,\n",
       "  \u001b[32m255.0\u001b[39m,\n",
       "  \u001b[32m255.0\u001b[39m,\n",
       "  \u001b[32m255.0\u001b[39m,\n",
       "  \u001b[32m255.0\u001b[39m,\n",
       "  \u001b[32m255.0\u001b[39m,\n",
       "  \u001b[32m255.0\u001b[39m,\n",
       "  \u001b[32m255.0\u001b[39m,\n",
       "  \u001b[32m255.0\u001b[39m,\n",
       "  \u001b[32m255.0\u001b[39m,\n",
       "  \u001b[32m255.0\u001b[39m,\n",
       "  \u001b[32m255.0\u001b[39m,\n",
       "  \u001b[32m255.0\u001b[39m,\n",
       "  \u001b[32m255.0\u001b[39m,\n",
       "  \u001b[32m255.0\u001b[39m,\n",
       "  \u001b[32m255.0\u001b[39m,\n",
       "  \u001b[32m255.0\u001b[39m,\n",
       "  \u001b[32m255.0\u001b[39m,\n",
       "  \u001b[32m255.0\u001b[39m,\n",
       "  \u001b[32m255.0\u001b[39m,\n",
       "  \u001b[32m255.0\u001b[39m,\n",
       "  \u001b[32m255.0\u001b[39m,\n",
       "..."
      ]
     },
     "execution_count": 46,
     "metadata": {},
     "output_type": "execute_result"
    }
   ],
   "source": [
    "val grammar_string = \"if $t%5000<800:255 else:0\"\n",
    "val start = 0\n",
    "val end = 10000\n",
    "\n",
    "val result2 = TimeSeriesGrammar.build[Double](grammar_string, start, end, d=>d, rb).toSeq"
   ]
  },
  {
   "cell_type": "code",
   "execution_count": 52,
   "id": "b011be41",
   "metadata": {},
   "outputs": [
    {
     "data": {
      "text/plain": [
       "\u001b[36mres51\u001b[39m: \u001b[32mPlot\u001b[39m = breeze.plot.Plot@21a57ee2"
      ]
     },
     "execution_count": 52,
     "metadata": {},
     "output_type": "execute_result"
    }
   ],
   "source": [
    "plt += plot(x,result2)"
   ]
  },
  {
   "cell_type": "code",
   "execution_count": 50,
   "id": "09daced5",
   "metadata": {},
   "outputs": [],
   "source": [
    "fig.saveas(\"test.png\")"
   ]
  },
  {
   "cell_type": "code",
   "execution_count": null,
   "id": "aa1b7d0c",
   "metadata": {},
   "outputs": [],
   "source": []
  }
 ],
 "metadata": {
  "kernelspec": {
   "display_name": "Scala",
   "language": "scala",
   "name": "scala"
  },
  "language_info": {
   "codemirror_mode": "text/x-scala",
   "file_extension": ".scala",
   "mimetype": "text/x-scala",
   "name": "scala",
   "nbconvert_exporter": "script",
   "version": "2.12.6"
  }
 },
 "nbformat": 4,
 "nbformat_minor": 5
}
